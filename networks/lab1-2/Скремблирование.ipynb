{
 "cells": [
  {
   "cell_type": "markdown",
   "metadata": {},
   "source": [
    "# Скремблирование 3-5"
   ]
  },
  {
   "cell_type": "code",
   "execution_count": 19,
   "metadata": {},
   "outputs": [
    {
     "name": "stdout",
     "output_type": "stream",
     "text": [
      "B0 = A0 = 1\n",
      "B1 = A1 = 1\n",
      "B2 = A2 = 0\n",
      "B3 = A3 xor B0 = 0 xor 1 = 1\n",
      "B4 = A4 xor B1 = 1 xor 1 = 0\n",
      "B5 = A5 xor B2 xor B0 = 0 xor 0 xor 1 = 1\n",
      "B6 = A6 xor B3 xor B1 = 1 xor 0 xor 1 = 1\n",
      "B7 = A7 xor B4 xor B2 = 0 xor 1 xor 0 = 0\n",
      "B8 = A8 xor B5 xor B3 = 1 xor 0 xor 0 = 1\n",
      "B9 = A9 xor B6 xor B4 = 1 xor 1 xor 1 = 0\n",
      "B10 = A10 xor B7 xor B5 = 1 xor 0 xor 0 = 0\n",
      "B11 = A11 xor B8 xor B6 = 0 xor 1 xor 1 = 0\n",
      "B12 = A12 xor B9 xor B7 = 0 xor 1 xor 0 = 0\n",
      "B13 = A13 xor B10 xor B8 = 0 xor 1 xor 1 = 1\n",
      "B14 = A14 xor B11 xor B9 = 0 xor 0 xor 1 = 0\n",
      "B15 = A15 xor B12 xor B10 = 0 xor 0 xor 1 = 0\n",
      "B16 = A16 xor B13 xor B11 = 1 xor 0 xor 0 = 0\n",
      "B17 = A17 xor B14 xor B12 = 1 xor 0 xor 0 = 1\n",
      "B18 = A18 xor B15 xor B13 = 1 xor 0 xor 0 = 0\n",
      "B19 = A19 xor B16 xor B14 = 0 xor 1 xor 0 = 0\n",
      "B20 = A20 xor B17 xor B15 = 1 xor 1 xor 0 = 0\n",
      "B21 = A21 xor B18 xor B16 = 0 xor 1 xor 1 = 0\n",
      "B22 = A22 xor B19 xor B17 = 1 xor 0 xor 1 = 0\n",
      "B23 = A23 xor B20 xor B18 = 1 xor 1 xor 1 = 1\n",
      "B24 = A24 xor B21 xor B19 = 1 xor 0 xor 0 = 1\n",
      "B25 = A25 xor B22 xor B20 = 1 xor 1 xor 1 = 1\n",
      "B26 = A26 xor B23 xor B21 = 1 xor 1 xor 0 = 0\n",
      "B27 = A27 xor B24 xor B22 = 1 xor 1 xor 1 = 0\n",
      "B28 = A28 xor B25 xor B23 = 0 xor 1 xor 1 = 0\n",
      "B29 = A29 xor B26 xor B24 = 0 xor 1 xor 1 = 1\n",
      "B30 = A30 xor B27 xor B25 = 1 xor 1 xor 1 = 0\n",
      "B31 = A31 xor B28 xor B26 = 1 xor 0 xor 1 = 1\n",
      "11010110100001000100000111000101"
     ]
    }
   ],
   "source": [
    "code = \"11001010 11100000 11101011 11110011\"\n",
    "code = code.replace(\" \",\"\")\n",
    "\n",
    "b = [0 for i in range(len(code))]\n",
    "\n",
    "for i in range(0, len(code)):\n",
    "    if (i < 3):\n",
    "        b[i] = int(code[i])\n",
    "        print(f\"B{i} = A{i} = {b[i]}\")\n",
    "    elif (i < 5):\n",
    "        b[i] = int(code[i]) ^ b[i - 3]\n",
    "        print(f\"B{i} = A{i} xor B{i-3} = {code[i]} xor {code[i-3]} = {b[i]}\")\n",
    "    else:\n",
    "        b[i] = int(code[i]) ^ b[i - 3] ^ b[i-5]\n",
    "        print(f\"B{i} = A{i} xor B{i-3} xor B{i-5} = {code[i]} xor {code[i-3]} xor {code[i-5]} = {b[i]}\")\n",
    "\n",
    "for i in b:print(i, end=\"\")"
   ]
  }
 ],
 "metadata": {
  "kernelspec": {
   "display_name": "Python 3",
   "language": "python",
   "name": "python3"
  },
  "language_info": {
   "codemirror_mode": {
    "name": "ipython",
    "version": 3
   },
   "file_extension": ".py",
   "mimetype": "text/x-python",
   "name": "python",
   "nbconvert_exporter": "python",
   "pygments_lexer": "ipython3",
   "version": "3.6.5"
  }
 },
 "nbformat": 4,
 "nbformat_minor": 2
}
