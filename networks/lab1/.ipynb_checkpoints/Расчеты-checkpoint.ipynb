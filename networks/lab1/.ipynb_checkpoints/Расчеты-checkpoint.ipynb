{
 "cells": [
  {
   "cell_type": "markdown",
   "metadata": {},
   "source": [
    "# Данные"
   ]
  },
  {
   "cell_type": "code",
   "execution_count": 34,
   "metadata": {},
   "outputs": [],
   "source": [
    "it = \"11001010 11100000 11101011 11110011 11100011 11101000 11101101 11100000 00100000 11001100 00101110 11001100 00101110\"\n",
    "\n",
    "## Манчестерское\n",
    "# 10Mbps\n",
    "F1 = 2 * 0.5 * 10**7\n",
    "F2 = 0.5*10**7\n",
    "\n",
    "# 100Mbps\n",
    "F1 = 2 * 5 * 10**7\n",
    "F2 = 5 * 10**7\n",
    "\n",
    "# 1000Mbps\n",
    "F1 = 2 * 5 * 10**8\n",
    "F2 = 5 * 10**8"
   ]
  },
  {
   "cell_type": "markdown",
   "metadata": {},
   "source": [
    "# Среднее значение F"
   ]
  },
  {
   "cell_type": "code",
   "execution_count": 33,
   "metadata": {},
   "outputs": [
    {
     "name": "stdout",
     "output_type": "stream",
     "text": [
      "Fср = 60/104 * F1 + 44/104 * F2 = 60/104 * 1000000000 + 44/104 * 500000000 = 788461538\n"
     ]
    }
   ],
   "source": [
    "code = it.replace(\" \",\"\")\n",
    "code = code + code[0]\n",
    "\n",
    "prev = '-'\n",
    "c1 = 0\n",
    "c2 = 0\n",
    "for c in code:\n",
    "    if (c == prev):\n",
    "        c1 = c1 + 1\n",
    "    elif (prev != '-'):\n",
    "        c2 = c2 + 1\n",
    "    prev = c\n",
    "    \n",
    "print(f'Fср = {c1}/104 * F1 + {c2}/104 * F2 = {c1}/104 * {F1} + {c2}/104 * {F2} = {int((c1)/104 * F1  + (c2)/104 * F2)}')"
   ]
  },
  {
   "cell_type": "markdown",
   "metadata": {},
   "source": [
    "# Максимальное T для NRZ"
   ]
  },
  {
   "cell_type": "code",
   "execution_count": 35,
   "metadata": {},
   "outputs": [
    {
     "name": "stdout",
     "output_type": "stream",
     "text": [
      "7\n"
     ]
    }
   ],
   "source": [
    "code = it.replace(\" \",\"\")\n",
    "s = 1\n",
    "smax = 0\n",
    "prev = '-'\n",
    "for c in code:\n",
    "    if (c == prev):\n",
    "        s = s + 1\n",
    "    else:\n",
    "        if (s > smax):\n",
    "            smax = s\n",
    "        s = 1\n",
    "        prev = c\n",
    "print(max(smax,s))"
   ]
  },
  {
   "cell_type": "markdown",
   "metadata": {},
   "source": [
    "# Интервалы для NRZ"
   ]
  },
  {
   "cell_type": "code",
   "execution_count": 67,
   "metadata": {},
   "outputs": [
    {
     "name": "stdout",
     "output_type": "stream",
     "text": [
      "F1 соответствует участкам вида \"111111111111111111\" и \"000000000000000000\", которые в сумме занимают 18 битовых интервала\n",
      "F2 соответствует участкам вида \"1111111111\" и \"0000000000\", которые в сумме занимают 20 битовых интервала\n",
      "F3 соответствует участкам вида \"1111111\" и \"0000000\", которые в сумме занимают 21 битовых интервала\n",
      "F4 соответствует участкам вида \"111\" и \"000\", которые в сумме занимают 12 битовых интервала\n",
      "F5 соответствует участкам вида \"1111\" и \"0000\", которые в сумме занимают 20 битовых интервала\n",
      "F6 соответствует участкам вида \"1\" и \"0\", которые в сумме занимают 6 битовых интервала\n",
      "F7 соответствует участкам вида \"1\" и \"0\", которые в сумме занимают 7 битовых интервала\n"
     ]
    }
   ],
   "source": [
    "code = it.replace(\" \",\"\")\n",
    "s = 1\n",
    "summ = 0\n",
    "res = [0, 0, 0, 0, 0, 0, 0, 0, 0, 0]\n",
    "prev = '-'\n",
    "for c in code:\n",
    "    if (c == prev):\n",
    "        s = s + 1\n",
    "    else:\n",
    "        res[s] = res[s] + 1\n",
    "        s = 1\n",
    "        prev = c\n",
    "\n",
    "for i in range(1, 9):\n",
    "    if res[i] != 0:\n",
    "        data1 = \"\"\n",
    "        data2 = \"\"\n",
    "        for s in range(res[i]): data1 = data1 + \"1\" \n",
    "        for s in range(res[i]): data2 = data2 + \"0\" \n",
    "        print(f\"F{i} соответствует участкам вида \\\"{data1}\\\" и \\\"{data2}\\\", которые в сумме занимают {res[i] * i} битовых интервала\")\n",
    "        \n",
    "        summ = summ + i * res[i] \n",
    "\n",
    "if (summ != len(code)):\n",
    "    print(\"Error\")"
   ]
  }
 ],
 "metadata": {
  "kernelspec": {
   "display_name": "Python 3",
   "language": "python",
   "name": "python3"
  },
  "language_info": {
   "codemirror_mode": {
    "name": "ipython",
    "version": 3
   },
   "file_extension": ".py",
   "mimetype": "text/x-python",
   "name": "python",
   "nbconvert_exporter": "python",
   "pygments_lexer": "ipython3",
   "version": "3.6.5"
  }
 },
 "nbformat": 4,
 "nbformat_minor": 2
}
