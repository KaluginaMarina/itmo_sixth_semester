{
 "cells": [
  {
   "cell_type": "markdown",
   "metadata": {},
   "source": [
    "# Скремблирование 3-5"
   ]
  },
  {
   "cell_type": "code",
   "execution_count": 7,
   "metadata": {},
   "outputs": [
    {
     "name": "stdout",
     "output_type": "stream",
     "text": [
      "B0 = 1\n",
      "B1 = 1\n",
      "B2 = 0\n",
      "B3 = 0 xor 1 = 1\n",
      "B4 = 1 xor 1 = 0\n",
      "B5 = 0 xor 0 xor 1 = 1\n",
      "B6 = 1 xor 0 xor 1 = 0\n",
      "B7 = 0 xor 1 xor 0 = 1\n",
      "B8 = 1 xor 0 xor 0 = 1\n",
      "B9 = 1 xor 1 xor 1 = 1\n",
      "B10 = 1 xor 0 xor 0 = 1\n",
      "B11 = 0 xor 1 xor 1 = 0\n",
      "B12 = 0 xor 1 xor 0 = 1\n",
      "B13 = 0 xor 1 xor 1 = 0\n",
      "B14 = 0 xor 0 xor 1 = 1\n",
      "B15 = 0 xor 0 xor 1 = 1\n",
      "B16 = 1 xor 0 xor 0 = 1\n",
      "B17 = 1 xor 0 xor 0 = 1\n",
      "B18 = 1 xor 0 xor 0 = 1\n",
      "B19 = 0 xor 1 xor 0 = 1\n",
      "B20 = 1 xor 1 xor 0 = 0\n",
      "B21 = 0 xor 1 xor 1 = 0\n",
      "B22 = 1 xor 0 xor 1 = 0\n",
      "B23 = 1 xor 1 xor 1 = 1\n",
      "B24 = 1 xor 0 xor 0 = 1\n",
      "B25 = 1 xor 1 xor 1 = 1\n",
      "B26 = 1 xor 1 xor 0 = 0\n",
      "B27 = 1 xor 1 xor 1 = 1\n",
      "B28 = 0 xor 1 xor 1 = 0\n",
      "B29 = 0 xor 1 xor 1 = 0\n",
      "B30 = 1 xor 1 xor 1 = 1\n",
      "B31 = 1 xor 0 xor 1 = 0\n",
      "11010101111010111111000111010010\n"
     ]
    }
   ],
   "source": [
    "code = \"11001010 11100000 11101011 11110011\"\n",
    "code = code.replace(\" \",\"\")\n",
    "\n",
    "ans = \"\"\n",
    "\n",
    "for i in range(0, len(code)):\n",
    "    if (i < 3):\n",
    "        print(f\"B{i} = {code[i]}\")\n",
    "        ans = ans + code[i]\n",
    "    elif (i < 5):\n",
    "        print(f\"B{i} = {code[i]} xor {code[i-3]} = {int(code[i]) ^ int(code[i - 3])}\")\n",
    "        ans = ans + str(int(code[i]) ^ int(code[i - 3]))\n",
    "    else:\n",
    "        print(f\"B{i} = {code[i]} xor {code[i-3]} xor {code[i-5]} = {int(code[i]) ^ int(code[i - 3]) ^ int(code[i-5])}\")\n",
    "        ans = ans + str(int(code[i]) ^ int(code[i - 3]) ^ int(code[i-5]))\n",
    "print(ans)"
   ]
  }
 ],
 "metadata": {
  "kernelspec": {
   "display_name": "Python 3",
   "language": "python",
   "name": "python3"
  },
  "language_info": {
   "codemirror_mode": {
    "name": "ipython",
    "version": 3
   },
   "file_extension": ".py",
   "mimetype": "text/x-python",
   "name": "python",
   "nbconvert_exporter": "python",
   "pygments_lexer": "ipython3",
   "version": "3.6.5"
  }
 },
 "nbformat": 4,
 "nbformat_minor": 2
}
