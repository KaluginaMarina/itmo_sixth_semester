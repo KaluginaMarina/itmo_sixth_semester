{
 "cells": [
  {
   "cell_type": "code",
   "execution_count": 29,
   "metadata": {},
   "outputs": [
    {
     "name": "stdout",
     "output_type": "stream",
     "text": [
      "Fср = 60/104 * F1 + 44/104 * F2 = 7884615\n"
     ]
    }
   ],
   "source": [
    "it = \"11001010 11100000 11101011 11110011 11100011 11101000 11101101 11100000 00100000 11001100 00101110 11001100 00101110\"\n",
    "code = it.replace(\" \",\"\")\n",
    "\n",
    "code = code + code[0]\n",
    "\n",
    "F1 = 2 * 0.5 * 10**7\n",
    "F2 = 0.5*10**7\n",
    "\n",
    "prev = '-'\n",
    "c1 = 0\n",
    "c2 = 0\n",
    "for c in code:\n",
    "    if (c == prev):\n",
    "        c1 = c1 + 1\n",
    "    elif (prev != '-'):\n",
    "        c2 = c2 + 1\n",
    "    prev = c\n",
    "    \n",
    "print(f'Fср = {c1}/104 * F1 + {c2}/104 * F2 = {int((c1)/104 * F1  + (c2)/104 * F2)}')"
   ]
  }
 ],
 "metadata": {
  "kernelspec": {
   "display_name": "Python 3",
   "language": "python",
   "name": "python3"
  },
  "language_info": {
   "codemirror_mode": {
    "name": "ipython",
    "version": 3
   },
   "file_extension": ".py",
   "mimetype": "text/x-python",
   "name": "python",
   "nbconvert_exporter": "python",
   "pygments_lexer": "ipython3",
   "version": "3.6.5"
  }
 },
 "nbformat": 4,
 "nbformat_minor": 2
}
