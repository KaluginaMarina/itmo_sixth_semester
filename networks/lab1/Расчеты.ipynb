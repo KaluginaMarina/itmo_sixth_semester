{
 "cells": [
  {
   "cell_type": "markdown",
   "metadata": {},
   "source": [
    "# Данные"
   ]
  },
  {
   "cell_type": "code",
   "execution_count": 1,
   "metadata": {},
   "outputs": [],
   "source": [
    "it = \"11001010 11100000 11101011 11110011 11100011 11101000 11101101 11100000 00100000 11001100 00101110 11001100 00101110\"\n",
    "\n",
    "## Манчестерское\n",
    "# 10Mbps\n",
    "F1 = 2 * 0.5 * 10**7\n",
    "F2 = 0.5*10**7\n",
    "\n",
    "# 100Mbps\n",
    "F1 = 2 * 5 * 10**7\n",
    "F2 = 5 * 10**7\n",
    "\n",
    "# 1000Mbps\n",
    "F1 = 2 * 5 * 10**8\n",
    "F2 = 5 * 10**8"
   ]
  },
  {
   "cell_type": "markdown",
   "metadata": {},
   "source": [
    "# Среднее значение F"
   ]
  },
  {
   "cell_type": "code",
   "execution_count": 33,
   "metadata": {},
   "outputs": [
    {
     "name": "stdout",
     "output_type": "stream",
     "text": [
      "Fср = 60/104 * F1 + 44/104 * F2 = 60/104 * 1000000000 + 44/104 * 500000000 = 788461538\n"
     ]
    }
   ],
   "source": [
    "code = it.replace(\" \",\"\")\n",
    "code = code + code[0]\n",
    "\n",
    "prev = '-'\n",
    "c1 = 0\n",
    "c2 = 0\n",
    "for c in code:\n",
    "    if (c == prev):\n",
    "        c1 = c1 + 1\n",
    "    elif (prev != '-'):\n",
    "        c2 = c2 + 1\n",
    "    prev = c\n",
    "    \n",
    "print(f'Fср = {c1}/104 * F1 + {c2}/104 * F2 = {c1}/104 * {F1} + {c2}/104 * {F2} = {int((c1)/104 * F1  + (c2)/104 * F2)}')"
   ]
  },
  {
   "cell_type": "markdown",
   "metadata": {},
   "source": [
    "# Максимальное T для NRZ"
   ]
  },
  {
   "cell_type": "code",
   "execution_count": 6,
   "metadata": {},
   "outputs": [
    {
     "name": "stdout",
     "output_type": "stream",
     "text": [
      "15\n"
     ]
    }
   ],
   "source": [
    "code = it.replace(\" \",\"\")\n",
    "s = 0\n",
    "smax = 0\n",
    "prev = '-'\n",
    "for c in code:\n",
    "    if (c == prev):\n",
    "        s = s + 1\n",
    "    elif (s > smax):\n",
    "        smax = s\n",
    "        s = 0\n",
    "    prev = c\n",
    "print(smax)"
   ]
  }
 ],
 "metadata": {
  "kernelspec": {
   "display_name": "Python 3",
   "language": "python",
   "name": "python3"
  },
  "language_info": {
   "codemirror_mode": {
    "name": "ipython",
    "version": 3
   },
   "file_extension": ".py",
   "mimetype": "text/x-python",
   "name": "python",
   "nbconvert_exporter": "python",
   "pygments_lexer": "ipython3",
   "version": "3.6.5"
  }
 },
 "nbformat": 4,
 "nbformat_minor": 2
}
